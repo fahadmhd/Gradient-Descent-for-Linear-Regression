{
 "cells": [
  {
   "cell_type": "code",
   "execution_count": 1,
   "id": "5a4bd36e-9653-40cf-a15f-66c502f99e33",
   "metadata": {},
   "outputs": [],
   "source": [
    "from numpy import *"
   ]
  },
  {
   "cell_type": "markdown",
   "id": "a9c48486-1b28-4a91-b081-be90104fdc79",
   "metadata": {},
   "source": [
    "### y = mx + b , equation of linear regression\n",
    "### m is slope, b is y-intercept"
   ]
  },
  {
   "cell_type": "code",
   "execution_count": 2,
   "id": "6983de9c-25e0-4954-bc60-53c02ea2e4bc",
   "metadata": {},
   "outputs": [],
   "source": [
    "def compute_error_for_line_given_points(b, m, points):\n",
    "    totalError = 0\n",
    "    for i in range(0, len(points)):\n",
    "        x = points[i, 0]\n",
    "        y = points[i, 1]\n",
    "        totalError += (y - (m * x + b)) ** 2\n",
    "    return totalError / float(len(points))"
   ]
  },
  {
   "cell_type": "code",
   "execution_count": 3,
   "id": "a352ff4f-ec0a-4df9-8444-a2b73c5146f5",
   "metadata": {},
   "outputs": [],
   "source": [
    "def step_gradient(b_current, m_current, points, learningRate):\n",
    "    b_gradient = 0\n",
    "    m_gradient = 0\n",
    "    N = float(len(points))\n",
    "    for i in range(0, len(points)):\n",
    "        x = points[i, 0]\n",
    "        y = points[i, 1]\n",
    "        b_gradient += -(2/N) * (y - ((m_current * x) + b_current))\n",
    "        m_gradient += -(2/N) * x * (y - ((m_current * x) + b_current))\n",
    "    new_b = b_current - (learningRate * b_gradient)\n",
    "    new_m = m_current - (learningRate * m_gradient)\n",
    "    return [new_b, new_m]"
   ]
  },
  {
   "cell_type": "code",
   "execution_count": 4,
   "id": "5c30c19b-b952-476a-b2ab-191b8111f931",
   "metadata": {},
   "outputs": [],
   "source": [
    "def gradient_descent_runner(points, starting_b, starting_m, learning_rate, num_iterations):\n",
    "    b = starting_b\n",
    "    m = starting_m\n",
    "    for i in range(num_iterations):\n",
    "        b, m = step_gradient(b, m, array(points), learning_rate)\n",
    "    return [b, m]"
   ]
  },
  {
   "cell_type": "code",
   "execution_count": 5,
   "id": "0d9cef07-e79c-4dd8-80b6-a58809962cbc",
   "metadata": {},
   "outputs": [
    {
     "name": "stdout",
     "output_type": "stream",
     "text": [
      "Starting gradient descent at b = 0, m = 0, error = 5565.107834483211\n",
      "Running...\n",
      "After 100 iterations b = 0.03507497059234178, m = 1.4788027175308358, error = 112.64705664288809\n"
     ]
    }
   ],
   "source": [
    "points = genfromtxt(\"data.csv\", delimiter=\",\")\n",
    "learning_rate = 0.0001\n",
    "initial_b = 0 # initial y-intercept guess\n",
    "initial_m = 0 # initial slope guess\n",
    "num_iterations = 100\n",
    "print(\"Starting gradient descent at b = {0}, m = {1}, error = {2}\".format(initial_b, initial_m, compute_error_for_line_given_points(initial_b, initial_m, points)))\n",
    "print(\"Running...\")\n",
    "[b, m] = gradient_descent_runner(points, initial_b, initial_m, learning_rate, num_iterations)\n",
    "print(\"After {0} iterations b = {1}, m = {2}, error = {3}\".format(num_iterations, b, m, compute_error_for_line_given_points(b, m, points)))"
   ]
  },
  {
   "cell_type": "markdown",
   "id": "e0a69687-0357-4941-9134-5fc93bc7594b",
   "metadata": {},
   "source": [
    "### learning_rate = 0.006\n",
    "Starting gradient descent at b = 0, m = 0, error = 5565.107834483211\n",
    "Running...\n",
    "After 100 iterations b = -3.6126495609127355e+144, m = -1.8380593052344277e+146, error = 8.422120976101405e+295"
   ]
  },
  {
   "cell_type": "markdown",
   "id": "e85b5d6f-ce08-4ed5-8c9b-650600bc7d76",
   "metadata": {},
   "source": [
    "### learning_rate = 0.005\n",
    "Starting gradient descent at b = 0, m = 0, error = 5565.107834483211\n",
    "Running...\n",
    "After 100 iterations b = -2.1784063483240976e+136, m = -1.1083389051738627e+138, error = 3.0622989969097574e+279"
   ]
  },
  {
   "cell_type": "markdown",
   "id": "0b605442-8f08-48d4-983e-bedd4df24d33",
   "metadata": {},
   "source": [
    "### learning_rate = 0.001 \n",
    "Starting gradient descent at b = 0, m = 0, error = 5565.107834483211\n",
    "Running...\n",
    "After 100 iterations b = -3.1165582062514995e+58, m = -1.585655822608489e+60, error = 6.267874454306815e+123"
   ]
  },
  {
   "cell_type": "markdown",
   "id": "2f3fd5f5-4198-4401-a25f-c3961ee5f537",
   "metadata": {},
   "source": [
    "#### After 300 iterations\n",
    "Starting gradient descent at b = 0, m = 0, error = 5565.107834483211\n",
    "Running...\n",
    "After 300 iterations b = 0.04707584301051574, m = 1.4785668440399826, error = 112.63985283995136"
   ]
  },
  {
   "cell_type": "markdown",
   "id": "27095244-df5e-4a59-b473-08a68a3ccd9b",
   "metadata": {},
   "source": [
    "#### After 500 iterations\n",
    "Starting gradient descent at b = 0, m = 0, error = 5565.107834483211\n",
    "Running...\n",
    "After 500 iterations b = 0.059058613126514004, m = 1.4783313263443632, error = 112.63267075328005"
   ]
  },
  {
   "cell_type": "markdown",
   "id": "53c205cf-20d2-44a6-8b05-cd8d286d2856",
   "metadata": {},
   "source": [
    "#### After 1000 iterations\n",
    "Starting gradient descent at b = 0, m = 0, error = 5565.107834483211\n",
    "Running...\n",
    "After 1000 iterations b = 0.08893651993741346, m = 1.4777440851894448, error = 112.61481011613473"
   ]
  }
 ],
 "metadata": {
  "kernelspec": {
   "display_name": "Python 3 (ipykernel)",
   "language": "python",
   "name": "python3"
  },
  "language_info": {
   "codemirror_mode": {
    "name": "ipython",
    "version": 3
   },
   "file_extension": ".py",
   "mimetype": "text/x-python",
   "name": "python",
   "nbconvert_exporter": "python",
   "pygments_lexer": "ipython3",
   "version": "3.11.7"
  }
 },
 "nbformat": 4,
 "nbformat_minor": 5
}
